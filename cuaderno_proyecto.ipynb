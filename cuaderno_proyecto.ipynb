{
 "cells": [
  {
   "cell_type": "code",
   "execution_count": 1,
   "metadata": {},
   "outputs": [],
   "source": [
    "#####\n",
    "# Proyecto Final: Census data Income\n",
    "# Authors: Alvaro Beltran Camacho - Yabir Garcia Benchakhtir\n",
    "# Aprendije automatico 2020\n",
    "#####\n",
    "\n",
    "# Importamos las librerias que necesitamos. Entre ellas tenemos\n",
    "# pandas para tener un control amplio sobre los datos, matplotlib\n",
    "# para realizar gráficos y sklearn que incluye los métodos de \n",
    "# aprendizaje que vamos a desarrollar"
   ]
  },
  {
   "cell_type": "code",
   "execution_count": 2,
   "metadata": {},
   "outputs": [],
   "source": [
    "import pandas as pd\n",
    "import numpy as np \n",
    "\n",
    "from sklearn.utils import shuffle\n",
    "from sklearn.model_selection import train_test_split\n",
    "\n",
    "import seaborn as sns\n",
    "from matplotlib import pyplot as plt\n",
    "\n",
    "from sklearn import model_selection \n",
    "from sklearn.pipeline import Pipeline\n",
    "from sklearn.model_selection import GridSearchCV\n",
    "from sklearn.linear_model import LogisticRegression, LassoCV, Perceptron, SGDClassifier\n",
    "from sklearn.preprocessing import StandardScaler\n",
    "from sklearn.feature_selection import VarianceThreshold, SelectFromModel\n",
    "from sklearn.preprocessing import PolynomialFeatures\n",
    "from sklearn.svm import SVC\n",
    "from sklearn.ensemble import RandomForestClassifier\n",
    "\n",
    "from sklearn.neural_network import MLPClassifier\n",
    "\n",
    "from sklearn.metrics import confusion_matrix"
   ]
  },
  {
   "cell_type": "code",
   "execution_count": 3,
   "metadata": {},
   "outputs": [],
   "source": [
    "SEED = 1\n",
    "np.random.seed(SEED)\n",
    "\n",
    "# Definimos la carpeta donde se encuentran los datos\n",
    "\n",
    "data_folder = \"data/\"\n",
    "\n",
    "data_training = data_folder + \"adult.data\"\n",
    "data_test = data_folder + \"adult.test\"\n",
    "\n",
    "# Fijamos una lista de las columnas que tienen nuestros datos \n",
    "# de esta manera tenemos mas informaicion en los dataframes de \n",
    "# pandas\n",
    "\n",
    "headers = [\n",
    "    \"age\", \n",
    "    \"workclass\", \n",
    "    \"fnlwgt\", \n",
    "    \"education\", \n",
    "    \"education-num\", \n",
    "    \"marital-status\", \n",
    "    \"occupation\", \n",
    "    \"relationship\", \n",
    "    \"race\", \n",
    "    \"sex\", \n",
    "    \"capital-gain\",\n",
    "    \"captial-loss\", \n",
    "    \"hours-per-week\", \n",
    "    \"native-country\", \n",
    "    \"income\"\n",
    "]\n",
    "\n",
    "# leemos los datos desde el archivo de datos. Este tiene irregularidades\n",
    "# en el formato, ya que hemos visto que a veces las variables se separan \n",
    "# con espacios y otras no. Hemos optados por usar una expresión regular para solverntar\n",
    "# este problema\n",
    "\n",
    "df_train = pd.read_csv(data_training, index_col=False, delimiter=\",\", names=headers)\n",
    "df_test = pd.read_csv(data_test, index_col=False, delimiter=\",\", names=headers)\n",
    "\n",
    "# combinamos los datos que tenemos en un solo conjunto para realizar\n",
    "# el limpiado de datos\n",
    "\n",
    "df = pd.concat([df_train,df_test], ignore_index=True)"
   ]
  },
  {
   "cell_type": "code",
   "execution_count": 4,
   "metadata": {},
   "outputs": [
    {
     "data": {
      "text/html": [
       "<div>\n",
       "<style scoped>\n",
       "    .dataframe tbody tr th:only-of-type {\n",
       "        vertical-align: middle;\n",
       "    }\n",
       "\n",
       "    .dataframe tbody tr th {\n",
       "        vertical-align: top;\n",
       "    }\n",
       "\n",
       "    .dataframe thead th {\n",
       "        text-align: right;\n",
       "    }\n",
       "</style>\n",
       "<table border=\"1\" class=\"dataframe\">\n",
       "  <thead>\n",
       "    <tr style=\"text-align: right;\">\n",
       "      <th></th>\n",
       "      <th>age</th>\n",
       "      <th>workclass</th>\n",
       "      <th>fnlwgt</th>\n",
       "      <th>education</th>\n",
       "      <th>education-num</th>\n",
       "      <th>marital-status</th>\n",
       "      <th>occupation</th>\n",
       "      <th>relationship</th>\n",
       "      <th>race</th>\n",
       "      <th>sex</th>\n",
       "      <th>capital-gain</th>\n",
       "      <th>captial-loss</th>\n",
       "      <th>hours-per-week</th>\n",
       "      <th>native-country</th>\n",
       "      <th>income</th>\n",
       "    </tr>\n",
       "  </thead>\n",
       "  <tbody>\n",
       "    <tr>\n",
       "      <th>0</th>\n",
       "      <td>39</td>\n",
       "      <td>State-gov</td>\n",
       "      <td>77516.0</td>\n",
       "      <td>Bachelors</td>\n",
       "      <td>13.0</td>\n",
       "      <td>Never-married</td>\n",
       "      <td>Adm-clerical</td>\n",
       "      <td>Not-in-family</td>\n",
       "      <td>White</td>\n",
       "      <td>Male</td>\n",
       "      <td>2174.0</td>\n",
       "      <td>0.0</td>\n",
       "      <td>40.0</td>\n",
       "      <td>United-States</td>\n",
       "      <td>&lt;=50K</td>\n",
       "    </tr>\n",
       "    <tr>\n",
       "      <th>1</th>\n",
       "      <td>50</td>\n",
       "      <td>Self-emp-not-inc</td>\n",
       "      <td>83311.0</td>\n",
       "      <td>Bachelors</td>\n",
       "      <td>13.0</td>\n",
       "      <td>Married-civ-spouse</td>\n",
       "      <td>Exec-managerial</td>\n",
       "      <td>Husband</td>\n",
       "      <td>White</td>\n",
       "      <td>Male</td>\n",
       "      <td>0.0</td>\n",
       "      <td>0.0</td>\n",
       "      <td>13.0</td>\n",
       "      <td>United-States</td>\n",
       "      <td>&lt;=50K</td>\n",
       "    </tr>\n",
       "    <tr>\n",
       "      <th>2</th>\n",
       "      <td>38</td>\n",
       "      <td>Private</td>\n",
       "      <td>215646.0</td>\n",
       "      <td>HS-grad</td>\n",
       "      <td>9.0</td>\n",
       "      <td>Divorced</td>\n",
       "      <td>Handlers-cleaners</td>\n",
       "      <td>Not-in-family</td>\n",
       "      <td>White</td>\n",
       "      <td>Male</td>\n",
       "      <td>0.0</td>\n",
       "      <td>0.0</td>\n",
       "      <td>40.0</td>\n",
       "      <td>United-States</td>\n",
       "      <td>&lt;=50K</td>\n",
       "    </tr>\n",
       "    <tr>\n",
       "      <th>3</th>\n",
       "      <td>53</td>\n",
       "      <td>Private</td>\n",
       "      <td>234721.0</td>\n",
       "      <td>11th</td>\n",
       "      <td>7.0</td>\n",
       "      <td>Married-civ-spouse</td>\n",
       "      <td>Handlers-cleaners</td>\n",
       "      <td>Husband</td>\n",
       "      <td>Black</td>\n",
       "      <td>Male</td>\n",
       "      <td>0.0</td>\n",
       "      <td>0.0</td>\n",
       "      <td>40.0</td>\n",
       "      <td>United-States</td>\n",
       "      <td>&lt;=50K</td>\n",
       "    </tr>\n",
       "    <tr>\n",
       "      <th>4</th>\n",
       "      <td>28</td>\n",
       "      <td>Private</td>\n",
       "      <td>338409.0</td>\n",
       "      <td>Bachelors</td>\n",
       "      <td>13.0</td>\n",
       "      <td>Married-civ-spouse</td>\n",
       "      <td>Prof-specialty</td>\n",
       "      <td>Wife</td>\n",
       "      <td>Black</td>\n",
       "      <td>Female</td>\n",
       "      <td>0.0</td>\n",
       "      <td>0.0</td>\n",
       "      <td>40.0</td>\n",
       "      <td>Cuba</td>\n",
       "      <td>&lt;=50K</td>\n",
       "    </tr>\n",
       "    <tr>\n",
       "      <th>...</th>\n",
       "      <td>...</td>\n",
       "      <td>...</td>\n",
       "      <td>...</td>\n",
       "      <td>...</td>\n",
       "      <td>...</td>\n",
       "      <td>...</td>\n",
       "      <td>...</td>\n",
       "      <td>...</td>\n",
       "      <td>...</td>\n",
       "      <td>...</td>\n",
       "      <td>...</td>\n",
       "      <td>...</td>\n",
       "      <td>...</td>\n",
       "      <td>...</td>\n",
       "      <td>...</td>\n",
       "    </tr>\n",
       "    <tr>\n",
       "      <th>48838</th>\n",
       "      <td>39</td>\n",
       "      <td>Private</td>\n",
       "      <td>215419.0</td>\n",
       "      <td>Bachelors</td>\n",
       "      <td>13.0</td>\n",
       "      <td>Divorced</td>\n",
       "      <td>Prof-specialty</td>\n",
       "      <td>Not-in-family</td>\n",
       "      <td>White</td>\n",
       "      <td>Female</td>\n",
       "      <td>0.0</td>\n",
       "      <td>0.0</td>\n",
       "      <td>36.0</td>\n",
       "      <td>United-States</td>\n",
       "      <td>&lt;=50K.</td>\n",
       "    </tr>\n",
       "    <tr>\n",
       "      <th>48839</th>\n",
       "      <td>64</td>\n",
       "      <td>?</td>\n",
       "      <td>321403.0</td>\n",
       "      <td>HS-grad</td>\n",
       "      <td>9.0</td>\n",
       "      <td>Widowed</td>\n",
       "      <td>?</td>\n",
       "      <td>Other-relative</td>\n",
       "      <td>Black</td>\n",
       "      <td>Male</td>\n",
       "      <td>0.0</td>\n",
       "      <td>0.0</td>\n",
       "      <td>40.0</td>\n",
       "      <td>United-States</td>\n",
       "      <td>&lt;=50K.</td>\n",
       "    </tr>\n",
       "    <tr>\n",
       "      <th>48840</th>\n",
       "      <td>38</td>\n",
       "      <td>Private</td>\n",
       "      <td>374983.0</td>\n",
       "      <td>Bachelors</td>\n",
       "      <td>13.0</td>\n",
       "      <td>Married-civ-spouse</td>\n",
       "      <td>Prof-specialty</td>\n",
       "      <td>Husband</td>\n",
       "      <td>White</td>\n",
       "      <td>Male</td>\n",
       "      <td>0.0</td>\n",
       "      <td>0.0</td>\n",
       "      <td>50.0</td>\n",
       "      <td>United-States</td>\n",
       "      <td>&lt;=50K.</td>\n",
       "    </tr>\n",
       "    <tr>\n",
       "      <th>48841</th>\n",
       "      <td>44</td>\n",
       "      <td>Private</td>\n",
       "      <td>83891.0</td>\n",
       "      <td>Bachelors</td>\n",
       "      <td>13.0</td>\n",
       "      <td>Divorced</td>\n",
       "      <td>Adm-clerical</td>\n",
       "      <td>Own-child</td>\n",
       "      <td>Asian-Pac-Islander</td>\n",
       "      <td>Male</td>\n",
       "      <td>5455.0</td>\n",
       "      <td>0.0</td>\n",
       "      <td>40.0</td>\n",
       "      <td>United-States</td>\n",
       "      <td>&lt;=50K.</td>\n",
       "    </tr>\n",
       "    <tr>\n",
       "      <th>48842</th>\n",
       "      <td>35</td>\n",
       "      <td>Self-emp-inc</td>\n",
       "      <td>182148.0</td>\n",
       "      <td>Bachelors</td>\n",
       "      <td>13.0</td>\n",
       "      <td>Married-civ-spouse</td>\n",
       "      <td>Exec-managerial</td>\n",
       "      <td>Husband</td>\n",
       "      <td>White</td>\n",
       "      <td>Male</td>\n",
       "      <td>0.0</td>\n",
       "      <td>0.0</td>\n",
       "      <td>60.0</td>\n",
       "      <td>United-States</td>\n",
       "      <td>&gt;50K.</td>\n",
       "    </tr>\n",
       "  </tbody>\n",
       "</table>\n",
       "<p>48843 rows × 15 columns</p>\n",
       "</div>"
      ],
      "text/plain": [
       "      age          workclass    fnlwgt   education  education-num  \\\n",
       "0      39          State-gov   77516.0   Bachelors           13.0   \n",
       "1      50   Self-emp-not-inc   83311.0   Bachelors           13.0   \n",
       "2      38            Private  215646.0     HS-grad            9.0   \n",
       "3      53            Private  234721.0        11th            7.0   \n",
       "4      28            Private  338409.0   Bachelors           13.0   \n",
       "...    ..                ...       ...         ...            ...   \n",
       "48838  39            Private  215419.0   Bachelors           13.0   \n",
       "48839  64                  ?  321403.0     HS-grad            9.0   \n",
       "48840  38            Private  374983.0   Bachelors           13.0   \n",
       "48841  44            Private   83891.0   Bachelors           13.0   \n",
       "48842  35       Self-emp-inc  182148.0   Bachelors           13.0   \n",
       "\n",
       "            marital-status          occupation     relationship  \\\n",
       "0            Never-married        Adm-clerical    Not-in-family   \n",
       "1       Married-civ-spouse     Exec-managerial          Husband   \n",
       "2                 Divorced   Handlers-cleaners    Not-in-family   \n",
       "3       Married-civ-spouse   Handlers-cleaners          Husband   \n",
       "4       Married-civ-spouse      Prof-specialty             Wife   \n",
       "...                    ...                 ...              ...   \n",
       "48838             Divorced      Prof-specialty    Not-in-family   \n",
       "48839              Widowed                   ?   Other-relative   \n",
       "48840   Married-civ-spouse      Prof-specialty          Husband   \n",
       "48841             Divorced        Adm-clerical        Own-child   \n",
       "48842   Married-civ-spouse     Exec-managerial          Husband   \n",
       "\n",
       "                      race      sex  capital-gain  captial-loss  \\\n",
       "0                    White     Male        2174.0           0.0   \n",
       "1                    White     Male           0.0           0.0   \n",
       "2                    White     Male           0.0           0.0   \n",
       "3                    Black     Male           0.0           0.0   \n",
       "4                    Black   Female           0.0           0.0   \n",
       "...                    ...      ...           ...           ...   \n",
       "48838                White   Female           0.0           0.0   \n",
       "48839                Black     Male           0.0           0.0   \n",
       "48840                White     Male           0.0           0.0   \n",
       "48841   Asian-Pac-Islander     Male        5455.0           0.0   \n",
       "48842                White     Male           0.0           0.0   \n",
       "\n",
       "       hours-per-week  native-country   income  \n",
       "0                40.0   United-States    <=50K  \n",
       "1                13.0   United-States    <=50K  \n",
       "2                40.0   United-States    <=50K  \n",
       "3                40.0   United-States    <=50K  \n",
       "4                40.0            Cuba    <=50K  \n",
       "...               ...             ...      ...  \n",
       "48838            36.0   United-States   <=50K.  \n",
       "48839            40.0   United-States   <=50K.  \n",
       "48840            50.0   United-States   <=50K.  \n",
       "48841            40.0   United-States   <=50K.  \n",
       "48842            60.0   United-States    >50K.  \n",
       "\n",
       "[48843 rows x 15 columns]"
      ]
     },
     "execution_count": 4,
     "metadata": {},
     "output_type": "execute_result"
    }
   ],
   "source": [
    "df"
   ]
  },
  {
   "cell_type": "code",
   "execution_count": 5,
   "metadata": {},
   "outputs": [],
   "source": [
    "# Limpiamos los datos\n",
    "# en primer lugar vamos a sustituir los simbolos de interrogacion \n",
    "# que hay en el dataset por valores NaN de numpy "
   ]
  },
  {
   "cell_type": "code",
   "execution_count": 6,
   "metadata": {},
   "outputs": [
    {
     "name": "stdout",
     "output_type": "stream",
     "text": [
      "Numero de valores perdidos en el conjunto de datos: occupation        2810\n",
      "workclass         2800\n",
      "native-country     858\n",
      "income               1\n",
      "hours-per-week       1\n",
      "captial-loss         1\n",
      "capital-gain         1\n",
      "sex                  1\n",
      "race                 1\n",
      "relationship         1\n",
      "marital-status       1\n",
      "education-num        1\n",
      "education            1\n",
      "fnlwgt               1\n",
      "age                  0\n",
      "dtype: int64\n"
     ]
    }
   ],
   "source": [
    "df = df.replace('?', np.NaN)\n",
    "df = df.replace(' ?', np.NaN)\n",
    "\n",
    "# mostramos el numero de valores null que hay en el dataset\n",
    "print(\"Numero de valores perdidos en el conjunto de datos: {}\".format(\n",
    "    df.isnull().sum(axis=0).sort_values(ascending = False).head(30)))\n",
    "\n",
    "# sustituimos los valores de income por etiquetas 0 y 1\n",
    "\n",
    "\n",
    "df['income'] = df['income'].str.strip()\n",
    "df['income'] = df['income'].str.replace(\".\", \"\")\n",
    "df['income'] = df['income'].map({'<=50K': 0, '>50K': 1})"
   ]
  },
  {
   "cell_type": "code",
   "execution_count": 7,
   "metadata": {},
   "outputs": [
    {
     "data": {
      "text/html": [
       "<div>\n",
       "<style scoped>\n",
       "    .dataframe tbody tr th:only-of-type {\n",
       "        vertical-align: middle;\n",
       "    }\n",
       "\n",
       "    .dataframe tbody tr th {\n",
       "        vertical-align: top;\n",
       "    }\n",
       "\n",
       "    .dataframe thead th {\n",
       "        text-align: right;\n",
       "    }\n",
       "</style>\n",
       "<table border=\"1\" class=\"dataframe\">\n",
       "  <thead>\n",
       "    <tr style=\"text-align: right;\">\n",
       "      <th></th>\n",
       "      <th>age</th>\n",
       "      <th>workclass</th>\n",
       "      <th>fnlwgt</th>\n",
       "      <th>education</th>\n",
       "      <th>education-num</th>\n",
       "      <th>marital-status</th>\n",
       "      <th>occupation</th>\n",
       "      <th>relationship</th>\n",
       "      <th>race</th>\n",
       "      <th>sex</th>\n",
       "      <th>capital-gain</th>\n",
       "      <th>captial-loss</th>\n",
       "      <th>hours-per-week</th>\n",
       "      <th>native-country</th>\n",
       "      <th>income</th>\n",
       "    </tr>\n",
       "  </thead>\n",
       "  <tbody>\n",
       "    <tr>\n",
       "      <th>0</th>\n",
       "      <td>39</td>\n",
       "      <td>State-gov</td>\n",
       "      <td>77516.0</td>\n",
       "      <td>Bachelors</td>\n",
       "      <td>13.0</td>\n",
       "      <td>Never-married</td>\n",
       "      <td>Adm-clerical</td>\n",
       "      <td>Not-in-family</td>\n",
       "      <td>White</td>\n",
       "      <td>Male</td>\n",
       "      <td>2174.0</td>\n",
       "      <td>0.0</td>\n",
       "      <td>40.0</td>\n",
       "      <td>United-States</td>\n",
       "      <td>0.0</td>\n",
       "    </tr>\n",
       "    <tr>\n",
       "      <th>1</th>\n",
       "      <td>50</td>\n",
       "      <td>Self-emp-not-inc</td>\n",
       "      <td>83311.0</td>\n",
       "      <td>Bachelors</td>\n",
       "      <td>13.0</td>\n",
       "      <td>Married-civ-spouse</td>\n",
       "      <td>Exec-managerial</td>\n",
       "      <td>Husband</td>\n",
       "      <td>White</td>\n",
       "      <td>Male</td>\n",
       "      <td>0.0</td>\n",
       "      <td>0.0</td>\n",
       "      <td>13.0</td>\n",
       "      <td>United-States</td>\n",
       "      <td>0.0</td>\n",
       "    </tr>\n",
       "    <tr>\n",
       "      <th>2</th>\n",
       "      <td>38</td>\n",
       "      <td>Private</td>\n",
       "      <td>215646.0</td>\n",
       "      <td>HS-grad</td>\n",
       "      <td>9.0</td>\n",
       "      <td>Divorced</td>\n",
       "      <td>Handlers-cleaners</td>\n",
       "      <td>Not-in-family</td>\n",
       "      <td>White</td>\n",
       "      <td>Male</td>\n",
       "      <td>0.0</td>\n",
       "      <td>0.0</td>\n",
       "      <td>40.0</td>\n",
       "      <td>United-States</td>\n",
       "      <td>0.0</td>\n",
       "    </tr>\n",
       "    <tr>\n",
       "      <th>3</th>\n",
       "      <td>53</td>\n",
       "      <td>Private</td>\n",
       "      <td>234721.0</td>\n",
       "      <td>11th</td>\n",
       "      <td>7.0</td>\n",
       "      <td>Married-civ-spouse</td>\n",
       "      <td>Handlers-cleaners</td>\n",
       "      <td>Husband</td>\n",
       "      <td>Black</td>\n",
       "      <td>Male</td>\n",
       "      <td>0.0</td>\n",
       "      <td>0.0</td>\n",
       "      <td>40.0</td>\n",
       "      <td>United-States</td>\n",
       "      <td>0.0</td>\n",
       "    </tr>\n",
       "    <tr>\n",
       "      <th>4</th>\n",
       "      <td>28</td>\n",
       "      <td>Private</td>\n",
       "      <td>338409.0</td>\n",
       "      <td>Bachelors</td>\n",
       "      <td>13.0</td>\n",
       "      <td>Married-civ-spouse</td>\n",
       "      <td>Prof-specialty</td>\n",
       "      <td>Wife</td>\n",
       "      <td>Black</td>\n",
       "      <td>Female</td>\n",
       "      <td>0.0</td>\n",
       "      <td>0.0</td>\n",
       "      <td>40.0</td>\n",
       "      <td>Cuba</td>\n",
       "      <td>0.0</td>\n",
       "    </tr>\n",
       "    <tr>\n",
       "      <th>...</th>\n",
       "      <td>...</td>\n",
       "      <td>...</td>\n",
       "      <td>...</td>\n",
       "      <td>...</td>\n",
       "      <td>...</td>\n",
       "      <td>...</td>\n",
       "      <td>...</td>\n",
       "      <td>...</td>\n",
       "      <td>...</td>\n",
       "      <td>...</td>\n",
       "      <td>...</td>\n",
       "      <td>...</td>\n",
       "      <td>...</td>\n",
       "      <td>...</td>\n",
       "      <td>...</td>\n",
       "    </tr>\n",
       "    <tr>\n",
       "      <th>48838</th>\n",
       "      <td>39</td>\n",
       "      <td>Private</td>\n",
       "      <td>215419.0</td>\n",
       "      <td>Bachelors</td>\n",
       "      <td>13.0</td>\n",
       "      <td>Divorced</td>\n",
       "      <td>Prof-specialty</td>\n",
       "      <td>Not-in-family</td>\n",
       "      <td>White</td>\n",
       "      <td>Female</td>\n",
       "      <td>0.0</td>\n",
       "      <td>0.0</td>\n",
       "      <td>36.0</td>\n",
       "      <td>United-States</td>\n",
       "      <td>0.0</td>\n",
       "    </tr>\n",
       "    <tr>\n",
       "      <th>48839</th>\n",
       "      <td>64</td>\n",
       "      <td>NaN</td>\n",
       "      <td>321403.0</td>\n",
       "      <td>HS-grad</td>\n",
       "      <td>9.0</td>\n",
       "      <td>Widowed</td>\n",
       "      <td>NaN</td>\n",
       "      <td>Other-relative</td>\n",
       "      <td>Black</td>\n",
       "      <td>Male</td>\n",
       "      <td>0.0</td>\n",
       "      <td>0.0</td>\n",
       "      <td>40.0</td>\n",
       "      <td>United-States</td>\n",
       "      <td>0.0</td>\n",
       "    </tr>\n",
       "    <tr>\n",
       "      <th>48840</th>\n",
       "      <td>38</td>\n",
       "      <td>Private</td>\n",
       "      <td>374983.0</td>\n",
       "      <td>Bachelors</td>\n",
       "      <td>13.0</td>\n",
       "      <td>Married-civ-spouse</td>\n",
       "      <td>Prof-specialty</td>\n",
       "      <td>Husband</td>\n",
       "      <td>White</td>\n",
       "      <td>Male</td>\n",
       "      <td>0.0</td>\n",
       "      <td>0.0</td>\n",
       "      <td>50.0</td>\n",
       "      <td>United-States</td>\n",
       "      <td>0.0</td>\n",
       "    </tr>\n",
       "    <tr>\n",
       "      <th>48841</th>\n",
       "      <td>44</td>\n",
       "      <td>Private</td>\n",
       "      <td>83891.0</td>\n",
       "      <td>Bachelors</td>\n",
       "      <td>13.0</td>\n",
       "      <td>Divorced</td>\n",
       "      <td>Adm-clerical</td>\n",
       "      <td>Own-child</td>\n",
       "      <td>Asian-Pac-Islander</td>\n",
       "      <td>Male</td>\n",
       "      <td>5455.0</td>\n",
       "      <td>0.0</td>\n",
       "      <td>40.0</td>\n",
       "      <td>United-States</td>\n",
       "      <td>0.0</td>\n",
       "    </tr>\n",
       "    <tr>\n",
       "      <th>48842</th>\n",
       "      <td>35</td>\n",
       "      <td>Self-emp-inc</td>\n",
       "      <td>182148.0</td>\n",
       "      <td>Bachelors</td>\n",
       "      <td>13.0</td>\n",
       "      <td>Married-civ-spouse</td>\n",
       "      <td>Exec-managerial</td>\n",
       "      <td>Husband</td>\n",
       "      <td>White</td>\n",
       "      <td>Male</td>\n",
       "      <td>0.0</td>\n",
       "      <td>0.0</td>\n",
       "      <td>60.0</td>\n",
       "      <td>United-States</td>\n",
       "      <td>1.0</td>\n",
       "    </tr>\n",
       "  </tbody>\n",
       "</table>\n",
       "<p>48843 rows × 15 columns</p>\n",
       "</div>"
      ],
      "text/plain": [
       "      age          workclass    fnlwgt   education  education-num  \\\n",
       "0      39          State-gov   77516.0   Bachelors           13.0   \n",
       "1      50   Self-emp-not-inc   83311.0   Bachelors           13.0   \n",
       "2      38            Private  215646.0     HS-grad            9.0   \n",
       "3      53            Private  234721.0        11th            7.0   \n",
       "4      28            Private  338409.0   Bachelors           13.0   \n",
       "...    ..                ...       ...         ...            ...   \n",
       "48838  39            Private  215419.0   Bachelors           13.0   \n",
       "48839  64                NaN  321403.0     HS-grad            9.0   \n",
       "48840  38            Private  374983.0   Bachelors           13.0   \n",
       "48841  44            Private   83891.0   Bachelors           13.0   \n",
       "48842  35       Self-emp-inc  182148.0   Bachelors           13.0   \n",
       "\n",
       "            marital-status          occupation     relationship  \\\n",
       "0            Never-married        Adm-clerical    Not-in-family   \n",
       "1       Married-civ-spouse     Exec-managerial          Husband   \n",
       "2                 Divorced   Handlers-cleaners    Not-in-family   \n",
       "3       Married-civ-spouse   Handlers-cleaners          Husband   \n",
       "4       Married-civ-spouse      Prof-specialty             Wife   \n",
       "...                    ...                 ...              ...   \n",
       "48838             Divorced      Prof-specialty    Not-in-family   \n",
       "48839              Widowed                 NaN   Other-relative   \n",
       "48840   Married-civ-spouse      Prof-specialty          Husband   \n",
       "48841             Divorced        Adm-clerical        Own-child   \n",
       "48842   Married-civ-spouse     Exec-managerial          Husband   \n",
       "\n",
       "                      race      sex  capital-gain  captial-loss  \\\n",
       "0                    White     Male        2174.0           0.0   \n",
       "1                    White     Male           0.0           0.0   \n",
       "2                    White     Male           0.0           0.0   \n",
       "3                    Black     Male           0.0           0.0   \n",
       "4                    Black   Female           0.0           0.0   \n",
       "...                    ...      ...           ...           ...   \n",
       "48838                White   Female           0.0           0.0   \n",
       "48839                Black     Male           0.0           0.0   \n",
       "48840                White     Male           0.0           0.0   \n",
       "48841   Asian-Pac-Islander     Male        5455.0           0.0   \n",
       "48842                White     Male           0.0           0.0   \n",
       "\n",
       "       hours-per-week  native-country  income  \n",
       "0                40.0   United-States     0.0  \n",
       "1                13.0   United-States     0.0  \n",
       "2                40.0   United-States     0.0  \n",
       "3                40.0   United-States     0.0  \n",
       "4                40.0            Cuba     0.0  \n",
       "...               ...             ...     ...  \n",
       "48838            36.0   United-States     0.0  \n",
       "48839            40.0   United-States     0.0  \n",
       "48840            50.0   United-States     0.0  \n",
       "48841            40.0   United-States     0.0  \n",
       "48842            60.0   United-States     1.0  \n",
       "\n",
       "[48843 rows x 15 columns]"
      ]
     },
     "execution_count": 7,
     "metadata": {},
     "output_type": "execute_result"
    }
   ],
   "source": [
    "df"
   ]
  },
  {
   "cell_type": "code",
   "execution_count": 8,
   "metadata": {},
   "outputs": [
    {
     "name": "stdout",
     "output_type": "stream",
     "text": [
      "Numero de valores perdidos en el conjunto de datos: occupation        2810\n",
      "workclass         2800\n",
      "native-country     858\n",
      "income               1\n",
      "hours-per-week       1\n",
      "captial-loss         1\n",
      "capital-gain         1\n",
      "sex                  1\n",
      "race                 1\n",
      "relationship         1\n",
      "marital-status       1\n",
      "education-num        1\n",
      "education            1\n",
      "fnlwgt               1\n",
      "age                  0\n",
      "dtype: int64\n"
     ]
    }
   ],
   "source": [
    "# mostramos el numero de valores null que hay en el dataset\n",
    "print(\"Numero de valores perdidos en el conjunto de datos: {}\".format(\n",
    "    df.isnull().sum(axis=0).sort_values(ascending = False).head(30)))\n"
   ]
  },
  {
   "cell_type": "code",
   "execution_count": 9,
   "metadata": {},
   "outputs": [
    {
     "name": "stdout",
     "output_type": "stream",
     "text": [
      "Numero de datos de cada clase\n",
      "0.0    37155\n",
      "1.0    11687\n",
      "Name: income, dtype: int64\n"
     ]
    }
   ],
   "source": [
    "print(\"Numero de datos de cada clase\")\n",
    "print(df.income.value_counts())"
   ]
  },
  {
   "cell_type": "code",
   "execution_count": 10,
   "metadata": {},
   "outputs": [],
   "source": [
    "# Mostramos el número de muestras de cada clase"
   ]
  },
  {
   "cell_type": "code",
   "execution_count": 11,
   "metadata": {},
   "outputs": [
    {
     "data": {
      "text/plain": [
       "[Text(0, 0, '<=50K'), Text(0, 0, '>50K')]"
      ]
     },
     "execution_count": 11,
     "metadata": {},
     "output_type": "execute_result"
    },
    {
     "data": {
      "image/png": "[encoded data removed]",
      "text/plain": [
       "<Figure size 720x720 with 1 Axes>"
      ]
     },
     "metadata": {
      "needs_background": "light"
     },
     "output_type": "display_data"
    }
   ],
   "source": [
    "plot = df.income.value_counts().plot(kind=\"bar\", title=\"Numero de muestras de cada clase\", legend=True, figsize=(10,10))\n",
    "plot.set_xlabel(\"Clase\")\n",
    "plot.set_ylabel(\"Número de muestras\")\n",
    "plot.set_xticklabels( ('<=50K', '>50K'), rotation=1)"
   ]
  },
  {
   "cell_type": "code",
   "execution_count": 12,
   "metadata": {},
   "outputs": [],
   "source": [
    "# eliminamos las columnas que no vamos a utilizar en el analisis\n",
    "df = df.drop(['fnlwgt'], axis=1)\n",
    "df = df.drop(['education-num'], axis=1)"
   ]
  },
  {
   "cell_type": "code",
   "execution_count": 13,
   "metadata": {},
   "outputs": [],
   "source": [
    "# Realizamos la coficacion de las variables categoricas\n",
    "# en primer lugar listamos las variables que son categoricas\n",
    "cols_with_categories = [\n",
    "    'workclass', \n",
    "    'education',\n",
    "    \"marital-status\",\n",
    "    \"occupation\",\n",
    "    \"relationship\",\n",
    "    \"race\",\n",
    "    \"sex\",\n",
    "    \"native-country\"\n",
    "]"
   ]
  },
  {
   "cell_type": "code",
   "execution_count": 14,
   "metadata": {},
   "outputs": [
    {
     "name": "stdout",
     "output_type": "stream",
     "text": [
      "Datos perdidos por columnas: \n",
      "occupation        2810\n",
      "workclass         2800\n",
      "native-country     858\n",
      "income               1\n",
      "hours-per-week       1\n",
      "captial-loss         1\n",
      "capital-gain         1\n",
      "sex                  1\n",
      "race                 1\n",
      "relationship         1\n",
      "marital-status       1\n",
      "education            1\n",
      "age                  0\n",
      "dtype: int64\n",
      "\n",
      "Datos perdidos por filas: \n",
      "32561    12\n",
      "45138     3\n",
      "20480     3\n",
      "34722     3\n",
      "3579      3\n",
      "43070     3\n",
      "39362     3\n",
      "20333     3\n",
      "35636     3\n",
      "12996     3\n",
      "3834      3\n",
      "35174     3\n",
      "23915     3\n",
      "32525     3\n",
      "30369     3\n",
      "dtype: int64\n"
     ]
    }
   ],
   "source": [
    "# Trabajar con los datos perdidos\n",
    "\n",
    "print(\"Datos perdidos por columnas: \")\n",
    "print(df.isnull().sum(axis=0).sort_values(ascending = False).head(15))\n",
    "print(\"\\nDatos perdidos por filas: \")\n",
    "print(df.isnull().sum(axis=1).sort_values(ascending = False).head(15))"
   ]
  },
  {
   "cell_type": "code",
   "execution_count": 15,
   "metadata": {},
   "outputs": [
    {
     "name": "stdout",
     "output_type": "stream",
     "text": [
      "(48843, 13)\n",
      "\n",
      "Datos perdidos por filas: \n",
      "29888    1\n",
      "37713    1\n",
      "40004    1\n",
      "28500    1\n",
      "29786    1\n",
      "        ..\n",
      "32391    0\n",
      "32390    0\n",
      "32389    0\n",
      "32388    0\n",
      "0        0\n",
      "Length: 46043, dtype: int64\n",
      "\n",
      "Datos perdidos por columnas: \n",
      "native-country    811\n",
      "occupation         10\n",
      "income              0\n",
      "hours-per-week      0\n",
      "captial-loss        0\n",
      "capital-gain        0\n",
      "sex                 0\n",
      "race                0\n",
      "relationship        0\n",
      "marital-status      0\n",
      "education           0\n",
      "workclass           0\n",
      "age                 0\n",
      "dtype: int64\n"
     ]
    }
   ],
   "source": [
    "df2 = df.copy()\n",
    "print(df2.shape)\n",
    "\n",
    "\n",
    "# En primer lugar eliminamos los datos que tengan mas de un 10 % de \n",
    "# valores perdidos\n",
    "df.dropna(thresh=df.shape[1]-1, inplace=True, axis=0)\n",
    "\n",
    "print(\"\\nDatos perdidos por filas: \")\n",
    "print(df.isnull().sum(axis=1).sort_values(ascending = False))\n",
    "\n",
    "print(\"\\nDatos perdidos por columnas: \")\n",
    "print(df.isnull().sum(axis=0).sort_values(ascending = False).head(30))"
   ]
  },
  {
   "cell_type": "code",
   "execution_count": 16,
   "metadata": {},
   "outputs": [
    {
     "name": "stdout",
     "output_type": "stream",
     "text": [
      "Datos perdidos por filas despues del procesado: \n",
      "48842    0\n",
      "16248    0\n",
      "16268    0\n",
      "16267    0\n",
      "16266    0\n",
      "        ..\n",
      "32523    0\n",
      "32522    0\n",
      "32521    0\n",
      "32520    0\n",
      "0        0\n",
      "Length: 46043, dtype: int64\n",
      "\n",
      "Datos perdidos por columnas despues del procesado: \n",
      "income            0\n",
      "native-country    0\n",
      "hours-per-week    0\n",
      "captial-loss      0\n",
      "capital-gain      0\n",
      "sex               0\n",
      "race              0\n",
      "relationship      0\n",
      "occupation        0\n",
      "marital-status    0\n",
      "education         0\n",
      "workclass         0\n",
      "age               0\n",
      "dtype: int64\n"
     ]
    }
   ],
   "source": [
    "# Para los valores con menos de 10% de los valores perdidos aproximamos por \n",
    "# una multinomial con el resto de valores en la columna\n",
    "# En este caso las columnas con valores perdidos que quedan son\n",
    "# native-country y occupation\n",
    "\n",
    "s = df[\"native-country\"].value_counts(normalize=True)\n",
    "missing = df[\"native-country\"].isnull()\n",
    "df.loc[missing,\"native-country\"] = np.random.choice(s.index, size=len(df[missing]),p=s.values)\n",
    "\n",
    "s = df[\"occupation\"].value_counts(normalize=True)\n",
    "missing = df[\"occupation\"].isnull()\n",
    "df.loc[missing,\"occupation\"] = np.random.choice(s.index, size=len(df[missing]),p=s.values)\n",
    "\n",
    "print(\"Datos perdidos por filas despues del procesado: \")\n",
    "print(df.isnull().sum(axis=1).sort_values(ascending = False))\n",
    "\n",
    "\n",
    "print(\"\\nDatos perdidos por columnas despues del procesado: \")\n",
    "print(df.isnull().sum(axis=0).sort_values(ascending = False).head(30))"
   ]
  },
  {
   "cell_type": "code",
   "execution_count": 17,
   "metadata": {},
   "outputs": [
    {
     "name": "stdout",
     "output_type": "stream",
     "text": [
      "Tamaño antes del conjunto de datos antes de recodificar las variables: (46043, 13)\n",
      "Tamaño antes del conjunto de datos despues de recodificar las variables: (46043, 104)\n"
     ]
    }
   ],
   "source": [
    "# sustituimos las variables categoricas por una codificacion de 1s y 0s\n",
    "print(\"Tamaño antes del conjunto de datos antes de recodificar las variables: {}\".format(df.shape))\n",
    "df = pd.get_dummies(data=df, columns=cols_with_categories)\n",
    "print(\"Tamaño antes del conjunto de datos despues de recodificar las variables: {}\".format(df.shape))"
   ]
  },
  {
   "cell_type": "code",
   "execution_count": 18,
   "metadata": {},
   "outputs": [
    {
     "data": {
      "text/html": [
       "<div>\n",
       "<style scoped>\n",
       "    .dataframe tbody tr th:only-of-type {\n",
       "        vertical-align: middle;\n",
       "    }\n",
       "\n",
       "    .dataframe tbody tr th {\n",
       "        vertical-align: top;\n",
       "    }\n",
       "\n",
       "    .dataframe thead th {\n",
       "        text-align: right;\n",
       "    }\n",
       "</style>\n",
       "<table border=\"1\" class=\"dataframe\">\n",
       "  <thead>\n",
       "    <tr style=\"text-align: right;\">\n",
       "      <th></th>\n",
       "      <th>age</th>\n",
       "      <th>capital-gain</th>\n",
       "      <th>captial-loss</th>\n",
       "      <th>hours-per-week</th>\n",
       "      <th>income</th>\n",
       "      <th>workclass_ Federal-gov</th>\n",
       "      <th>workclass_ Local-gov</th>\n",
       "      <th>workclass_ Never-worked</th>\n",
       "      <th>workclass_ Private</th>\n",
       "      <th>workclass_ Self-emp-inc</th>\n",
       "      <th>...</th>\n",
       "      <th>native-country_ Portugal</th>\n",
       "      <th>native-country_ Puerto-Rico</th>\n",
       "      <th>native-country_ Scotland</th>\n",
       "      <th>native-country_ South</th>\n",
       "      <th>native-country_ Taiwan</th>\n",
       "      <th>native-country_ Thailand</th>\n",
       "      <th>native-country_ Trinadad&amp;Tobago</th>\n",
       "      <th>native-country_ United-States</th>\n",
       "      <th>native-country_ Vietnam</th>\n",
       "      <th>native-country_ Yugoslavia</th>\n",
       "    </tr>\n",
       "  </thead>\n",
       "  <tbody>\n",
       "    <tr>\n",
       "      <th>0</th>\n",
       "      <td>39</td>\n",
       "      <td>2174.0</td>\n",
       "      <td>0.0</td>\n",
       "      <td>40.0</td>\n",
       "      <td>0.0</td>\n",
       "      <td>0</td>\n",
       "      <td>0</td>\n",
       "      <td>0</td>\n",
       "      <td>0</td>\n",
       "      <td>0</td>\n",
       "      <td>...</td>\n",
       "      <td>0</td>\n",
       "      <td>0</td>\n",
       "      <td>0</td>\n",
       "      <td>0</td>\n",
       "      <td>0</td>\n",
       "      <td>0</td>\n",
       "      <td>0</td>\n",
       "      <td>1</td>\n",
       "      <td>0</td>\n",
       "      <td>0</td>\n",
       "    </tr>\n",
       "    <tr>\n",
       "      <th>1</th>\n",
       "      <td>50</td>\n",
       "      <td>0.0</td>\n",
       "      <td>0.0</td>\n",
       "      <td>13.0</td>\n",
       "      <td>0.0</td>\n",
       "      <td>0</td>\n",
       "      <td>0</td>\n",
       "      <td>0</td>\n",
       "      <td>0</td>\n",
       "      <td>0</td>\n",
       "      <td>...</td>\n",
       "      <td>0</td>\n",
       "      <td>0</td>\n",
       "      <td>0</td>\n",
       "      <td>0</td>\n",
       "      <td>0</td>\n",
       "      <td>0</td>\n",
       "      <td>0</td>\n",
       "      <td>1</td>\n",
       "      <td>0</td>\n",
       "      <td>0</td>\n",
       "    </tr>\n",
       "    <tr>\n",
       "      <th>2</th>\n",
       "      <td>38</td>\n",
       "      <td>0.0</td>\n",
       "      <td>0.0</td>\n",
       "      <td>40.0</td>\n",
       "      <td>0.0</td>\n",
       "      <td>0</td>\n",
       "      <td>0</td>\n",
       "      <td>0</td>\n",
       "      <td>1</td>\n",
       "      <td>0</td>\n",
       "      <td>...</td>\n",
       "      <td>0</td>\n",
       "      <td>0</td>\n",
       "      <td>0</td>\n",
       "      <td>0</td>\n",
       "      <td>0</td>\n",
       "      <td>0</td>\n",
       "      <td>0</td>\n",
       "      <td>1</td>\n",
       "      <td>0</td>\n",
       "      <td>0</td>\n",
       "    </tr>\n",
       "    <tr>\n",
       "      <th>3</th>\n",
       "      <td>53</td>\n",
       "      <td>0.0</td>\n",
       "      <td>0.0</td>\n",
       "      <td>40.0</td>\n",
       "      <td>0.0</td>\n",
       "      <td>0</td>\n",
       "      <td>0</td>\n",
       "      <td>0</td>\n",
       "      <td>1</td>\n",
       "      <td>0</td>\n",
       "      <td>...</td>\n",
       "      <td>0</td>\n",
       "      <td>0</td>\n",
       "      <td>0</td>\n",
       "      <td>0</td>\n",
       "      <td>0</td>\n",
       "      <td>0</td>\n",
       "      <td>0</td>\n",
       "      <td>1</td>\n",
       "      <td>0</td>\n",
       "      <td>0</td>\n",
       "    </tr>\n",
       "    <tr>\n",
       "      <th>4</th>\n",
       "      <td>28</td>\n",
       "      <td>0.0</td>\n",
       "      <td>0.0</td>\n",
       "      <td>40.0</td>\n",
       "      <td>0.0</td>\n",
       "      <td>0</td>\n",
       "      <td>0</td>\n",
       "      <td>0</td>\n",
       "      <td>1</td>\n",
       "      <td>0</td>\n",
       "      <td>...</td>\n",
       "      <td>0</td>\n",
       "      <td>0</td>\n",
       "      <td>0</td>\n",
       "      <td>0</td>\n",
       "      <td>0</td>\n",
       "      <td>0</td>\n",
       "      <td>0</td>\n",
       "      <td>0</td>\n",
       "      <td>0</td>\n",
       "      <td>0</td>\n",
       "    </tr>\n",
       "    <tr>\n",
       "      <th>...</th>\n",
       "      <td>...</td>\n",
       "      <td>...</td>\n",
       "      <td>...</td>\n",
       "      <td>...</td>\n",
       "      <td>...</td>\n",
       "      <td>...</td>\n",
       "      <td>...</td>\n",
       "      <td>...</td>\n",
       "      <td>...</td>\n",
       "      <td>...</td>\n",
       "      <td>...</td>\n",
       "      <td>...</td>\n",
       "      <td>...</td>\n",
       "      <td>...</td>\n",
       "      <td>...</td>\n",
       "      <td>...</td>\n",
       "      <td>...</td>\n",
       "      <td>...</td>\n",
       "      <td>...</td>\n",
       "      <td>...</td>\n",
       "      <td>...</td>\n",
       "    </tr>\n",
       "    <tr>\n",
       "      <th>48837</th>\n",
       "      <td>33</td>\n",
       "      <td>0.0</td>\n",
       "      <td>0.0</td>\n",
       "      <td>40.0</td>\n",
       "      <td>0.0</td>\n",
       "      <td>0</td>\n",
       "      <td>0</td>\n",
       "      <td>0</td>\n",
       "      <td>1</td>\n",
       "      <td>0</td>\n",
       "      <td>...</td>\n",
       "      <td>0</td>\n",
       "      <td>0</td>\n",
       "      <td>0</td>\n",
       "      <td>0</td>\n",
       "      <td>0</td>\n",
       "      <td>0</td>\n",
       "      <td>0</td>\n",
       "      <td>1</td>\n",
       "      <td>0</td>\n",
       "      <td>0</td>\n",
       "    </tr>\n",
       "    <tr>\n",
       "      <th>48838</th>\n",
       "      <td>39</td>\n",
       "      <td>0.0</td>\n",
       "      <td>0.0</td>\n",
       "      <td>36.0</td>\n",
       "      <td>0.0</td>\n",
       "      <td>0</td>\n",
       "      <td>0</td>\n",
       "      <td>0</td>\n",
       "      <td>1</td>\n",
       "      <td>0</td>\n",
       "      <td>...</td>\n",
       "      <td>0</td>\n",
       "      <td>0</td>\n",
       "      <td>0</td>\n",
       "      <td>0</td>\n",
       "      <td>0</td>\n",
       "      <td>0</td>\n",
       "      <td>0</td>\n",
       "      <td>1</td>\n",
       "      <td>0</td>\n",
       "      <td>0</td>\n",
       "    </tr>\n",
       "    <tr>\n",
       "      <th>48840</th>\n",
       "      <td>38</td>\n",
       "      <td>0.0</td>\n",
       "      <td>0.0</td>\n",
       "      <td>50.0</td>\n",
       "      <td>0.0</td>\n",
       "      <td>0</td>\n",
       "      <td>0</td>\n",
       "      <td>0</td>\n",
       "      <td>1</td>\n",
       "      <td>0</td>\n",
       "      <td>...</td>\n",
       "      <td>0</td>\n",
       "      <td>0</td>\n",
       "      <td>0</td>\n",
       "      <td>0</td>\n",
       "      <td>0</td>\n",
       "      <td>0</td>\n",
       "      <td>0</td>\n",
       "      <td>1</td>\n",
       "      <td>0</td>\n",
       "      <td>0</td>\n",
       "    </tr>\n",
       "    <tr>\n",
       "      <th>48841</th>\n",
       "      <td>44</td>\n",
       "      <td>5455.0</td>\n",
       "      <td>0.0</td>\n",
       "      <td>40.0</td>\n",
       "      <td>0.0</td>\n",
       "      <td>0</td>\n",
       "      <td>0</td>\n",
       "      <td>0</td>\n",
       "      <td>1</td>\n",
       "      <td>0</td>\n",
       "      <td>...</td>\n",
       "      <td>0</td>\n",
       "      <td>0</td>\n",
       "      <td>0</td>\n",
       "      <td>0</td>\n",
       "      <td>0</td>\n",
       "      <td>0</td>\n",
       "      <td>0</td>\n",
       "      <td>1</td>\n",
       "      <td>0</td>\n",
       "      <td>0</td>\n",
       "    </tr>\n",
       "    <tr>\n",
       "      <th>48842</th>\n",
       "      <td>35</td>\n",
       "      <td>0.0</td>\n",
       "      <td>0.0</td>\n",
       "      <td>60.0</td>\n",
       "      <td>1.0</td>\n",
       "      <td>0</td>\n",
       "      <td>0</td>\n",
       "      <td>0</td>\n",
       "      <td>0</td>\n",
       "      <td>1</td>\n",
       "      <td>...</td>\n",
       "      <td>0</td>\n",
       "      <td>0</td>\n",
       "      <td>0</td>\n",
       "      <td>0</td>\n",
       "      <td>0</td>\n",
       "      <td>0</td>\n",
       "      <td>0</td>\n",
       "      <td>1</td>\n",
       "      <td>0</td>\n",
       "      <td>0</td>\n",
       "    </tr>\n",
       "  </tbody>\n",
       "</table>\n",
       "<p>46043 rows × 104 columns</p>\n",
       "</div>"
      ],
      "text/plain": [
       "      age  capital-gain  captial-loss  hours-per-week  income  \\\n",
       "0      39        2174.0           0.0            40.0     0.0   \n",
       "1      50           0.0           0.0            13.0     0.0   \n",
       "2      38           0.0           0.0            40.0     0.0   \n",
       "3      53           0.0           0.0            40.0     0.0   \n",
       "4      28           0.0           0.0            40.0     0.0   \n",
       "...    ..           ...           ...             ...     ...   \n",
       "48837  33           0.0           0.0            40.0     0.0   \n",
       "48838  39           0.0           0.0            36.0     0.0   \n",
       "48840  38           0.0           0.0            50.0     0.0   \n",
       "48841  44        5455.0           0.0            40.0     0.0   \n",
       "48842  35           0.0           0.0            60.0     1.0   \n",
       "\n",
       "       workclass_ Federal-gov  workclass_ Local-gov  workclass_ Never-worked  \\\n",
       "0                           0                     0                        0   \n",
       "1                           0                     0                        0   \n",
       "2                           0                     0                        0   \n",
       "3                           0                     0                        0   \n",
       "4                           0                     0                        0   \n",
       "...                       ...                   ...                      ...   \n",
       "48837                       0                     0                        0   \n",
       "48838                       0                     0                        0   \n",
       "48840                       0                     0                        0   \n",
       "48841                       0                     0                        0   \n",
       "48842                       0                     0                        0   \n",
       "\n",
       "       workclass_ Private  workclass_ Self-emp-inc  ...  \\\n",
       "0                       0                        0  ...   \n",
       "1                       0                        0  ...   \n",
       "2                       1                        0  ...   \n",
       "3                       1                        0  ...   \n",
       "4                       1                        0  ...   \n",
       "...                   ...                      ...  ...   \n",
       "48837                   1                        0  ...   \n",
       "48838                   1                        0  ...   \n",
       "48840                   1                        0  ...   \n",
       "48841                   1                        0  ...   \n",
       "48842                   0                        1  ...   \n",
       "\n",
       "       native-country_ Portugal  native-country_ Puerto-Rico  \\\n",
       "0                             0                            0   \n",
       "1                             0                            0   \n",
       "2                             0                            0   \n",
       "3                             0                            0   \n",
       "4                             0                            0   \n",
       "...                         ...                          ...   \n",
       "48837                         0                            0   \n",
       "48838                         0                            0   \n",
       "48840                         0                            0   \n",
       "48841                         0                            0   \n",
       "48842                         0                            0   \n",
       "\n",
       "       native-country_ Scotland  native-country_ South  \\\n",
       "0                             0                      0   \n",
       "1                             0                      0   \n",
       "2                             0                      0   \n",
       "3                             0                      0   \n",
       "4                             0                      0   \n",
       "...                         ...                    ...   \n",
       "48837                         0                      0   \n",
       "48838                         0                      0   \n",
       "48840                         0                      0   \n",
       "48841                         0                      0   \n",
       "48842                         0                      0   \n",
       "\n",
       "       native-country_ Taiwan  native-country_ Thailand  \\\n",
       "0                           0                         0   \n",
       "1                           0                         0   \n",
       "2                           0                         0   \n",
       "3                           0                         0   \n",
       "4                           0                         0   \n",
       "...                       ...                       ...   \n",
       "48837                       0                         0   \n",
       "48838                       0                         0   \n",
       "48840                       0                         0   \n",
       "48841                       0                         0   \n",
       "48842                       0                         0   \n",
       "\n",
       "       native-country_ Trinadad&Tobago  native-country_ United-States  \\\n",
       "0                                    0                              1   \n",
       "1                                    0                              1   \n",
       "2                                    0                              1   \n",
       "3                                    0                              1   \n",
       "4                                    0                              0   \n",
       "...                                ...                            ...   \n",
       "48837                                0                              1   \n",
       "48838                                0                              1   \n",
       "48840                                0                              1   \n",
       "48841                                0                              1   \n",
       "48842                                0                              1   \n",
       "\n",
       "       native-country_ Vietnam  native-country_ Yugoslavia  \n",
       "0                            0                           0  \n",
       "1                            0                           0  \n",
       "2                            0                           0  \n",
       "3                            0                           0  \n",
       "4                            0                           0  \n",
       "...                        ...                         ...  \n",
       "48837                        0                           0  \n",
       "48838                        0                           0  \n",
       "48840                        0                           0  \n",
       "48841                        0                           0  \n",
       "48842                        0                           0  \n",
       "\n",
       "[46043 rows x 104 columns]"
      ]
     },
     "execution_count": 18,
     "metadata": {},
     "output_type": "execute_result"
    }
   ],
   "source": [
    "df"
   ]
  },
  {
   "cell_type": "code",
   "execution_count": 19,
   "metadata": {},
   "outputs": [],
   "source": [
    "# creamos los conjuntos de training y de test\n",
    "X, y = df[df.columns.difference(['income'])], df['income']\n",
    "X, y = shuffle(X, y, random_state=SEED)\n",
    "train_x, test_x, train_y, test_y = train_test_split(X,y, test_size=0.8, stratify=y)"
   ]
  },
  {
   "cell_type": "code",
   "execution_count": 20,
   "metadata": {},
   "outputs": [],
   "source": [
    "# creamos la pipeline de preprocesado\n",
    "preproc = [\n",
    "    (\"var\", VarianceThreshold(0.01)),   \n",
    "    (\"standardize\", StandardScaler()),      \n",
    "    (\"lasso\", SelectFromModel(estimator=LassoCV(tol=0.01))),\n",
    "]"
   ]
  },
  {
   "cell_type": "code",
   "execution_count": 21,
   "metadata": {},
   "outputs": [],
   "source": [
    "p = Pipeline(preproc)"
   ]
  },
  {
   "cell_type": "code",
   "execution_count": 22,
   "metadata": {},
   "outputs": [
    {
     "name": "stdout",
     "output_type": "stream",
     "text": [
      "Descripción de los datos antes y después del preprocesado\n",
      "Antes: (9208, 103)\n",
      "Despues: (9208, 48)\n"
     ]
    }
   ],
   "source": [
    "x_train_prep = p.fit_transform(train_x, train_y)\n",
    "print(\"Descripción de los datos antes y después del preprocesado\")\n",
    "print(\"Antes: {}\".format(train_x.shape))\n",
    "print(\"Despues: {}\".format(x_train_prep.shape))"
   ]
  },
  {
   "cell_type": "code",
   "execution_count": 23,
   "metadata": {},
   "outputs": [],
   "source": [
    "# Modelo lineal\n",
    "\n",
    "preproc_lin = [\n",
    "    (\"var\", VarianceThreshold(0.01)),   \n",
    "    (\"standardize\", StandardScaler()),      \n",
    "    (\"poly\",PolynomialFeatures(1)), \n",
    "    (\"lasso\", SelectFromModel(estimator=LassoCV(tol=0.01))),\n",
    "]\n",
    "\n",
    "pipe_lineal = Pipeline(steps=preproc_lin+[('estimator', LogisticRegression())])\n",
    "params_lineal = {\n",
    "    'estimator':[LogisticRegression(max_iter=500)],\n",
    "    'estimator__solver':['lbfgs'],\n",
    "    'estimator__C': np.logspace(-6, 6, 4),\n",
    "    'estimator__penalty': ['l2'],\n",
    "    'poly__degree': [1,2],\n",
    "    'estimator__tol': [1e-3, 1e-4, 1e-2]\n",
    "}\n",
    "best_clf_lin = GridSearchCV(pipe_lineal, params_lineal, scoring = 'f1',cv = 5, n_jobs = -1, verbose=1)"
   ]
  },
  {
   "cell_type": "code",
   "execution_count": 24,
   "metadata": {},
   "outputs": [
    {
     "name": "stdout",
     "output_type": "stream",
     "text": [
      "Fitting 5 folds for each of 24 candidates, totalling 120 fits\n"
     ]
    },
    {
     "name": "stderr",
     "output_type": "stream",
     "text": [
      "[Parallel(n_jobs=-1)]: Using backend LokyBackend with 12 concurrent workers.\n",
      "[Parallel(n_jobs=-1)]: Done  26 tasks      | elapsed:   49.6s\n",
      "[Parallel(n_jobs=-1)]: Done 120 out of 120 | elapsed:  4.2min finished\n",
      "/home/yabirgb/Documents/uni/Proyecto-Final---AA/env/lib/python3.7/site-packages/sklearn/linear_model/_logistic.py:764: ConvergenceWarning: lbfgs failed to converge (status=1):\n",
      "STOP: TOTAL NO. of ITERATIONS REACHED LIMIT.\n",
      "\n",
      "Increase the number of iterations (max_iter) or scale the data as shown in:\n",
      "    https://scikit-learn.org/stable/modules/preprocessing.html\n",
      "Please also refer to the documentation for alternative solver options:\n",
      "    https://scikit-learn.org/stable/modules/linear_model.html#logistic-regression\n",
      "  extra_warning_msg=_LOGISTIC_SOLVER_CONVERGENCE_MSG)\n"
     ]
    },
    {
     "data": {
      "text/plain": [
       "GridSearchCV(cv=5,\n",
       "             estimator=Pipeline(steps=[('var',\n",
       "                                        VarianceThreshold(threshold=0.01)),\n",
       "                                       ('standardize', StandardScaler()),\n",
       "                                       ('poly', PolynomialFeatures(degree=1)),\n",
       "                                       ('lasso',\n",
       "                                        SelectFromModel(estimator=LassoCV(tol=0.01))),\n",
       "                                       ('estimator', LogisticRegression())]),\n",
       "             n_jobs=-1,\n",
       "             param_grid={'estimator': [LogisticRegression(C=100.0, max_iter=500,\n",
       "                                                          tol=0.001)],\n",
       "                         'estimator__C': array([1.e-06, 1.e-02, 1.e+02, 1.e+06]),\n",
       "                         'estimator__penalty': ['l2'],\n",
       "                         'estimator__solver': ['lbfgs'],\n",
       "                         'estimator__tol': [0.001, 0.0001, 0.01],\n",
       "                         'poly__degree': [1, 2]},\n",
       "             scoring='f1', verbose=1)"
      ]
     },
     "execution_count": 24,
     "metadata": {},
     "output_type": "execute_result"
    }
   ],
   "source": [
    "# Entrenamos\n",
    "best_clf_lin.fit(train_x, train_y)"
   ]
  },
  {
   "cell_type": "code",
   "execution_count": 25,
   "metadata": {},
   "outputs": [
    {
     "name": "stdout",
     "output_type": "stream",
     "text": [
      "Mejores parámetros para LR: \n"
     ]
    },
    {
     "data": {
      "text/plain": [
       "{'estimator': LogisticRegression(C=100.0, max_iter=500, tol=0.001),\n",
       " 'estimator__C': 100.0,\n",
       " 'estimator__penalty': 'l2',\n",
       " 'estimator__solver': 'lbfgs',\n",
       " 'estimator__tol': 0.001,\n",
       " 'poly__degree': 2}"
      ]
     },
     "execution_count": 25,
     "metadata": {},
     "output_type": "execute_result"
    }
   ],
   "source": [
    "print(\"Mejores parámetros para LR: \")\n",
    "best_clf_lin.best_params_"
   ]
  },
  {
   "cell_type": "code",
   "execution_count": 26,
   "metadata": {},
   "outputs": [
    {
     "name": "stdout",
     "output_type": "stream",
     "text": [
      "F1 en training: 72.37175\n",
      "F1 en test:  66.40552\n"
     ]
    }
   ],
   "source": [
    "print(\"F1 en training:\", round(100.0 * best_clf_lin.score(train_x, train_y), 5))\n",
    "print(\"F1 en test: \", round(100.0 * best_clf_lin.score(test_x, test_y),5))"
   ]
  },
  {
   "cell_type": "code",
   "execution_count": 27,
   "metadata": {},
   "outputs": [],
   "source": [
    "# Random Forest\n",
    "pipe_lineal = Pipeline(steps=preproc+[('estimator', RandomForestClassifier(random_state = SEED))])\n",
    "params_lineal = {\n",
    "    'estimator':[RandomForestClassifier(random_state = SEED)],\n",
    "    'estimator__criterion': ['gini','entropy'],\n",
    "    'estimator__max_features': ['sqrt'],\n",
    "    'estimator__bootstrap':['True'],\n",
    "    'estimator__min_samples_split': [2,3,4,5]\n",
    "}\n",
    "best_clf_random = GridSearchCV(pipe_lineal, params_lineal, scoring = 'f1',cv = 5, n_jobs = -1, verbose=1)"
   ]
  },
  {
   "cell_type": "code",
   "execution_count": 28,
   "metadata": {},
   "outputs": [
    {
     "name": "stdout",
     "output_type": "stream",
     "text": [
      "Fitting 5 folds for each of 8 candidates, totalling 40 fits\n"
     ]
    },
    {
     "name": "stderr",
     "output_type": "stream",
     "text": [
      "[Parallel(n_jobs=-1)]: Using backend LokyBackend with 12 concurrent workers.\n",
      "[Parallel(n_jobs=-1)]: Done  40 out of  40 | elapsed:    8.0s finished\n"
     ]
    },
    {
     "data": {
      "text/plain": [
       "GridSearchCV(cv=5,\n",
       "             estimator=Pipeline(steps=[('var',\n",
       "                                        VarianceThreshold(threshold=0.01)),\n",
       "                                       ('standardize', StandardScaler()),\n",
       "                                       ('lasso',\n",
       "                                        SelectFromModel(estimator=LassoCV(tol=0.01))),\n",
       "                                       ('estimator',\n",
       "                                        RandomForestClassifier(random_state=1))]),\n",
       "             n_jobs=-1,\n",
       "             param_grid={'estimator': [RandomForestClassifier(bootstrap='True',\n",
       "                                                              max_features='sqrt',\n",
       "                                                              min_samples_split=5,\n",
       "                                                              random_state=1)],\n",
       "                         'estimator__bootstrap': ['True'],\n",
       "                         'estimator__criterion': ['gini', 'entropy'],\n",
       "                         'estimator__max_features': ['sqrt'],\n",
       "                         'estimator__min_samples_split': [2, 3, 4, 5]},\n",
       "             scoring='f1', verbose=1)"
      ]
     },
     "execution_count": 28,
     "metadata": {},
     "output_type": "execute_result"
    }
   ],
   "source": [
    "best_clf_random.fit(train_x, train_y)"
   ]
  },
  {
   "cell_type": "code",
   "execution_count": 29,
   "metadata": {},
   "outputs": [
    {
     "name": "stdout",
     "output_type": "stream",
     "text": [
      "Mejores parámetros para RF: \n"
     ]
    },
    {
     "data": {
      "text/plain": [
       "{'estimator': RandomForestClassifier(bootstrap='True', max_features='sqrt',\n",
       "                        min_samples_split=5, random_state=1),\n",
       " 'estimator__bootstrap': 'True',\n",
       " 'estimator__criterion': 'gini',\n",
       " 'estimator__max_features': 'sqrt',\n",
       " 'estimator__min_samples_split': 5}"
      ]
     },
     "execution_count": 29,
     "metadata": {},
     "output_type": "execute_result"
    }
   ],
   "source": [
    "print(\"Mejores parámetros para RF: \")\n",
    "best_clf_random.best_params_"
   ]
  },
  {
   "cell_type": "code",
   "execution_count": 30,
   "metadata": {},
   "outputs": [
    {
     "name": "stdout",
     "output_type": "stream",
     "text": [
      "F1 en training: 90.33432\n",
      "F1 en test:  66.77672\n"
     ]
    }
   ],
   "source": [
    "print(\"F1 en training:\", round(100.0 * best_clf_random.score(train_x, train_y),5))\n",
    "print(\"F1 en test: \", round(100.0 * best_clf_random.score(test_x, test_y),5))"
   ]
  },
  {
   "cell_type": "code",
   "execution_count": 31,
   "metadata": {},
   "outputs": [],
   "source": [
    "# Perceptron\n",
    "pipe_perceptron = Pipeline(steps=preproc_lin+[('estimator', Perceptron(random_state = SEED))])\n",
    "params_perceptron = {\n",
    "    'estimator':[Perceptron(random_state = SEED)],\n",
    "    'estimator__penalty': ['l1'],\n",
    "    'estimator__alpha':[1.0, 1e-2, 1e-3, 1e-4, 2, 5],\n",
    "    'estimator__max_iter':[2000],\n",
    "    'estimator__tol': np.logspace(-6, 1, 3),\n",
    "    'estimator__shuffle': [True],\n",
    "    'poly__degree': [1,2]\n",
    "}\n",
    "best_clf_perceptron = GridSearchCV(pipe_perceptron, params_perceptron, scoring = 'f1',cv = 5, n_jobs = -1, verbose=1)# "
   ]
  },
  {
   "cell_type": "code",
   "execution_count": 32,
   "metadata": {},
   "outputs": [
    {
     "name": "stdout",
     "output_type": "stream",
     "text": [
      "Fitting 5 folds for each of 36 candidates, totalling 180 fits\n"
     ]
    },
    {
     "name": "stderr",
     "output_type": "stream",
     "text": [
      "[Parallel(n_jobs=-1)]: Using backend LokyBackend with 12 concurrent workers.\n",
      "[Parallel(n_jobs=-1)]: Done  26 tasks      | elapsed:   47.6s\n",
      "[Parallel(n_jobs=-1)]: Done 180 out of 180 | elapsed:  5.6min finished\n"
     ]
    },
    {
     "data": {
      "text/plain": [
       "GridSearchCV(cv=5,\n",
       "             estimator=Pipeline(steps=[('var',\n",
       "                                        VarianceThreshold(threshold=0.01)),\n",
       "                                       ('standardize', StandardScaler()),\n",
       "                                       ('poly', PolynomialFeatures(degree=1)),\n",
       "                                       ('lasso',\n",
       "                                        SelectFromModel(estimator=LassoCV(tol=0.01))),\n",
       "                                       ('estimator',\n",
       "                                        Perceptron(random_state=1))]),\n",
       "             n_jobs=-1,\n",
       "             param_grid={'estimator': [Perceptron(max_iter=2000, penalty='l1',\n",
       "                                                  random_state=1, tol=10.0)],\n",
       "                         'estimator__alpha': [1.0, 0.01, 0.001, 0.0001, 2, 5],\n",
       "                         'estimator__max_iter': [2000],\n",
       "                         'estimator__penalty': ['l1'],\n",
       "                         'estimator__shuffle': [True],\n",
       "                         'estimator__tol': array([1.00000000e-06, 3.16227766e-03, 1.00000000e+01]),\n",
       "                         'poly__degree': [1, 2]},\n",
       "             scoring='f1', verbose=1)"
      ]
     },
     "execution_count": 32,
     "metadata": {},
     "output_type": "execute_result"
    }
   ],
   "source": [
    "best_clf_perceptron.fit(train_x, train_y)"
   ]
  },
  {
   "cell_type": "code",
   "execution_count": 33,
   "metadata": {},
   "outputs": [
    {
     "name": "stdout",
     "output_type": "stream",
     "text": [
      "F1 en training: 65.44315\n",
      "F1 en test:  60.43744\n"
     ]
    }
   ],
   "source": [
    "print(\"F1 en training:\", round(100.0 * best_clf_perceptron.score(train_x, train_y),5))\n",
    "print(\"F1 en test: \", round(100.0 * best_clf_perceptron.score(test_x, test_y),5))"
   ]
  },
  {
   "cell_type": "code",
   "execution_count": 34,
   "metadata": {},
   "outputs": [
    {
     "name": "stdout",
     "output_type": "stream",
     "text": [
      "Mejores parámetros para Perceptron: \n"
     ]
    },
    {
     "data": {
      "text/plain": [
       "{'estimator': Perceptron(max_iter=2000, penalty='l1', random_state=1, tol=10.0),\n",
       " 'estimator__alpha': 0.0001,\n",
       " 'estimator__max_iter': 2000,\n",
       " 'estimator__penalty': 'l1',\n",
       " 'estimator__shuffle': True,\n",
       " 'estimator__tol': 10.0,\n",
       " 'poly__degree': 2}"
      ]
     },
     "execution_count": 34,
     "metadata": {},
     "output_type": "execute_result"
    }
   ],
   "source": [
    "print(\"Mejores parámetros para Perceptron: \")\n",
    "best_clf_perceptron.best_params_"
   ]
  },
  {
   "cell_type": "code",
   "execution_count": 35,
   "metadata": {},
   "outputs": [],
   "source": [
    "# MLP\n",
    "pipe_MLP = Pipeline(steps=preproc+[('estimator', MLPClassifier(random_state = SEED))])\n",
    "params_MLP = {\n",
    "    'estimator__activation': ['logistic', 'tanh', 'relu'],\n",
    "    'estimator__solver': ['lbfgs'],\n",
    "    'estimator__alpha': [1.0, 1e-2, 1e-3, 1e-4, 2, 5, 10],\n",
    "    'estimator__max_fun': [20000]\n",
    "}\n",
    "best_clf_mlp = GridSearchCV(pipe_MLP, params_MLP, scoring = 'f1',cv = 5, n_jobs = -1, verbose=1)# "
   ]
  },
  {
   "cell_type": "code",
   "execution_count": 36,
   "metadata": {},
   "outputs": [
    {
     "name": "stdout",
     "output_type": "stream",
     "text": [
      "Fitting 5 folds for each of 21 candidates, totalling 105 fits\n"
     ]
    },
    {
     "name": "stderr",
     "output_type": "stream",
     "text": [
      "[Parallel(n_jobs=-1)]: Using backend LokyBackend with 12 concurrent workers.\n",
      "[Parallel(n_jobs=-1)]: Done  26 tasks      | elapsed:  1.3min\n",
      "[Parallel(n_jobs=-1)]: Done 105 out of 105 | elapsed:  3.7min finished\n",
      "/home/yabirgb/Documents/uni/Proyecto-Final---AA/env/lib/python3.7/site-packages/sklearn/neural_network/_multilayer_perceptron.py:471: ConvergenceWarning: lbfgs failed to converge (status=1):\n",
      "STOP: TOTAL NO. of ITERATIONS REACHED LIMIT.\n",
      "\n",
      "Increase the number of iterations (max_iter) or scale the data as shown in:\n",
      "    https://scikit-learn.org/stable/modules/preprocessing.html\n",
      "  self.n_iter_ = _check_optimize_result(\"lbfgs\", opt_res, self.max_iter)\n"
     ]
    },
    {
     "data": {
      "text/plain": [
       "GridSearchCV(cv=5,\n",
       "             estimator=Pipeline(steps=[('var',\n",
       "                                        VarianceThreshold(threshold=0.01)),\n",
       "                                       ('standardize', StandardScaler()),\n",
       "                                       ('lasso',\n",
       "                                        SelectFromModel(estimator=LassoCV(tol=0.01))),\n",
       "                                       ('estimator',\n",
       "                                        MLPClassifier(random_state=1))]),\n",
       "             n_jobs=-1,\n",
       "             param_grid={'estimator__activation': ['logistic', 'tanh', 'relu'],\n",
       "                         'estimator__alpha': [1.0, 0.01, 0.001, 0.0001, 2, 5,\n",
       "                                              10],\n",
       "                         'estimator__max_fun': [20000],\n",
       "                         'estimator__solver': ['lbfgs']},\n",
       "             scoring='f1', verbose=1)"
      ]
     },
     "execution_count": 36,
     "metadata": {},
     "output_type": "execute_result"
    }
   ],
   "source": [
    "best_clf_mlp.fit(train_x, train_y)"
   ]
  },
  {
   "cell_type": "code",
   "execution_count": 37,
   "metadata": {},
   "outputs": [
    {
     "name": "stdout",
     "output_type": "stream",
     "text": [
      "Mejores parámetros para MLP: \n"
     ]
    },
    {
     "data": {
      "text/plain": [
       "{'estimator__activation': 'logistic',\n",
       " 'estimator__alpha': 5,\n",
       " 'estimator__max_fun': 20000,\n",
       " 'estimator__solver': 'lbfgs'}"
      ]
     },
     "execution_count": 37,
     "metadata": {},
     "output_type": "execute_result"
    }
   ],
   "source": [
    "print(\"Mejores parámetros para MLP: \")\n",
    "best_clf_mlp.best_params_"
   ]
  },
  {
   "cell_type": "code",
   "execution_count": 38,
   "metadata": {},
   "outputs": [
    {
     "name": "stdout",
     "output_type": "stream",
     "text": [
      "F1 en training: 74.09133\n",
      "F1 en test:  66.60767\n"
     ]
    }
   ],
   "source": [
    "print(\"F1 en training:\", round(100.0 * best_clf_mlp.score(train_x, train_y),5))\n",
    "print(\"F1 en test: \", round(100.0 * best_clf_mlp.score(test_x, test_y),5))"
   ]
  },
  {
   "cell_type": "code",
   "execution_count": 39,
   "metadata": {},
   "outputs": [],
   "source": [
    "# SVM\n",
    "pipe_SVM = Pipeline(steps=preproc+[('estimator', SVC(gamma = \"scale\", kernel=\"rbf\"))])\n",
    "params_SVM = {\n",
    "    'estimator__C': [0.1, 1, 2, 5, 7, 10],\n",
    "}\n",
    "best_clf_svm = GridSearchCV(pipe_SVM, params_SVM, scoring = 'f1',cv = 5, n_jobs = -1, verbose=1)# "
   ]
  },
  {
   "cell_type": "code",
   "execution_count": 40,
   "metadata": {},
   "outputs": [
    {
     "name": "stdout",
     "output_type": "stream",
     "text": [
      "Fitting 5 folds for each of 6 candidates, totalling 30 fits\n"
     ]
    },
    {
     "name": "stderr",
     "output_type": "stream",
     "text": [
      "[Parallel(n_jobs=-1)]: Using backend LokyBackend with 12 concurrent workers.\n",
      "[Parallel(n_jobs=-1)]: Done  30 out of  30 | elapsed:   24.5s finished\n"
     ]
    },
    {
     "data": {
      "text/plain": [
       "GridSearchCV(cv=5,\n",
       "             estimator=Pipeline(steps=[('var',\n",
       "                                        VarianceThreshold(threshold=0.01)),\n",
       "                                       ('standardize', StandardScaler()),\n",
       "                                       ('lasso',\n",
       "                                        SelectFromModel(estimator=LassoCV(tol=0.01))),\n",
       "                                       ('estimator', SVC())]),\n",
       "             n_jobs=-1, param_grid={'estimator__C': [0.1, 1, 2, 5, 7, 10]},\n",
       "             scoring='f1', verbose=1)"
      ]
     },
     "execution_count": 40,
     "metadata": {},
     "output_type": "execute_result"
    }
   ],
   "source": [
    "best_clf_svm.fit(train_x, train_y)"
   ]
  },
  {
   "cell_type": "code",
   "execution_count": 41,
   "metadata": {},
   "outputs": [
    {
     "name": "stdout",
     "output_type": "stream",
     "text": [
      "Mejores parámetros para SVM: \n"
     ]
    },
    {
     "data": {
      "text/plain": [
       "{'estimator__C': 7}"
      ]
     },
     "execution_count": 41,
     "metadata": {},
     "output_type": "execute_result"
    }
   ],
   "source": [
    "print(\"Mejores parámetros para SVM: \")\n",
    "best_clf_svm.best_params_"
   ]
  },
  {
   "cell_type": "code",
   "execution_count": 42,
   "metadata": {},
   "outputs": [
    {
     "name": "stdout",
     "output_type": "stream",
     "text": [
      "F1 en training: 77.82679\n",
      "F1 en test:  64.20312\n"
     ]
    }
   ],
   "source": [
    "print(\"F1 en training:\", round(100.0 * best_clf_svm.score(train_x, train_y),5))\n",
    "print(\"F1 en test: \", round(100.0 * best_clf_svm.score(test_x, test_y),5))"
   ]
  },
  {
   "cell_type": "code",
   "execution_count": 43,
   "metadata": {},
   "outputs": [],
   "source": [
    "# Una vez elegidos los mejores  parámetros elegimos el mejor modelo atendiendo al \n",
    "# mismo conjunto de valiación cruzada"
   ]
  },
  {
   "cell_type": "code",
   "execution_count": 44,
   "metadata": {},
   "outputs": [],
   "source": [
    "params_grid = [ {\n",
    "                'estimator':[LogisticRegression(max_iter=500)],\n",
    "                'estimator__solver':['lbfgs'],\n",
    "                'estimator__C': [100],\n",
    "                'estimator__penalty': ['l2'],\n",
    "                'estimator__tol': [0.001],\n",
    "                'poly__degree': [2]\n",
    "                },\n",
    "                {\n",
    "                'estimator': [Perceptron(random_state = SEED)],\n",
    "                'estimator__penalty': ['l1'],\n",
    "                'estimator__alpha': [0.0001],\n",
    "                'estimator__max_iter': [2000],\n",
    "                'estimator__shuffle': [True],\n",
    "                'estimator__tol': [10],\n",
    "                'poly__degree': [2]\n",
    "                },\n",
    "                {\n",
    "                'estimator': [RandomForestClassifier(random_state = SEED)],\n",
    "                'estimator__criterion': ['entropy'],\n",
    "                'estimator__max_features': ['sqrt'],\n",
    "                'estimator__bootstrap':['True'],\n",
    "                'estimator__min_samples_split': [5]\n",
    "                },\n",
    "                {\n",
    "                'estimator': [MLPClassifier(random_state = SEED)],\n",
    "                'estimator__activation': ['logistic'],\n",
    "                'estimator__solver': ['lbfgs'],\n",
    "                'estimator__alpha': [5],\n",
    "                'estimator__max_fun': [20000]\n",
    "                },\n",
    "                {\n",
    "                'estimator': [SVC()],\n",
    "                'estimator__C': [7],\n",
    "                'estimator__kernel': ['rbf'],\n",
    "                'estimator__gamma': ['scale']\n",
    "                }\n",
    "               # {'estimator':[Any_other_estimator_you_want],\n",
    "               #  'estimator__valid_param_of_your_estimator':[valid_values]\n",
    "\n",
    "]"
   ]
  },
  {
   "cell_type": "code",
   "execution_count": 45,
   "metadata": {},
   "outputs": [],
   "source": [
    "# Entrenamiento del mejor modelo\n",
    "pipe_model = Pipeline(steps=preproc_lin+[('estimator', SVC(gamma = \"scale\", kernel=\"rbf\"))])\n",
    "\n",
    "best_clf = GridSearchCV(pipe_model, params_grid, scoring = 'f1',cv = 5, n_jobs = -1, verbose=1)# "
   ]
  },
  {
   "cell_type": "code",
   "execution_count": 46,
   "metadata": {},
   "outputs": [
    {
     "name": "stdout",
     "output_type": "stream",
     "text": [
      "Fitting 5 folds for each of 5 candidates, totalling 25 fits\n"
     ]
    },
    {
     "name": "stderr",
     "output_type": "stream",
     "text": [
      "[Parallel(n_jobs=-1)]: Using backend LokyBackend with 12 concurrent workers.\n",
      "[Parallel(n_jobs=-1)]: Done  25 out of  25 | elapsed:   58.5s finished\n",
      "/home/yabirgb/Documents/uni/Proyecto-Final---AA/env/lib/python3.7/site-packages/sklearn/linear_model/_logistic.py:764: ConvergenceWarning: lbfgs failed to converge (status=1):\n",
      "STOP: TOTAL NO. of ITERATIONS REACHED LIMIT.\n",
      "\n",
      "Increase the number of iterations (max_iter) or scale the data as shown in:\n",
      "    https://scikit-learn.org/stable/modules/preprocessing.html\n",
      "Please also refer to the documentation for alternative solver options:\n",
      "    https://scikit-learn.org/stable/modules/linear_model.html#logistic-regression\n",
      "  extra_warning_msg=_LOGISTIC_SOLVER_CONVERGENCE_MSG)\n"
     ]
    },
    {
     "data": {
      "text/plain": [
       "GridSearchCV(cv=5,\n",
       "             estimator=Pipeline(steps=[('var',\n",
       "                                        VarianceThreshold(threshold=0.01)),\n",
       "                                       ('standardize', StandardScaler()),\n",
       "                                       ('poly', PolynomialFeatures(degree=1)),\n",
       "                                       ('lasso',\n",
       "                                        SelectFromModel(estimator=LassoCV(tol=0.01))),\n",
       "                                       ('estimator', SVC())]),\n",
       "             n_jobs=-1,\n",
       "             param_grid=[{'estimator': [LogisticRegression(C=100, max_iter=500,\n",
       "                                                           tol=0.001)],\n",
       "                          'estimator__C': [100], 'estimato...\n",
       "                          'estimator__max_features': ['sqrt'],\n",
       "                          'estimator__min_samples_split': [5]},\n",
       "                         {'estimator': [MLPClassifier(random_state=1)],\n",
       "                          'estimator__activation': ['logistic'],\n",
       "                          'estimator__alpha': [5],\n",
       "                          'estimator__max_fun': [20000],\n",
       "                          'estimator__solver': ['lbfgs']},\n",
       "                         {'estimator': [SVC()], 'estimator__C': [7],\n",
       "                          'estimator__gamma': ['scale'],\n",
       "                          'estimator__kernel': ['rbf']}],\n",
       "             scoring='f1', verbose=1)"
      ]
     },
     "execution_count": 46,
     "metadata": {},
     "output_type": "execute_result"
    }
   ],
   "source": [
    "best_clf.fit(train_x, train_y)"
   ]
  },
  {
   "cell_type": "code",
   "execution_count": 47,
   "metadata": {},
   "outputs": [
    {
     "name": "stdout",
     "output_type": "stream",
     "text": [
      "Mejor modelo obtenido\n"
     ]
    },
    {
     "data": {
      "text/plain": [
       "{'estimator': LogisticRegression(C=100, max_iter=500, tol=0.001),\n",
       " 'estimator__C': 100,\n",
       " 'estimator__penalty': 'l2',\n",
       " 'estimator__solver': 'lbfgs',\n",
       " 'estimator__tol': 0.001,\n",
       " 'poly__degree': 2}"
      ]
     },
     "execution_count": 47,
     "metadata": {},
     "output_type": "execute_result"
    }
   ],
   "source": [
    "print(\"Mejor modelo obtenido\")\n",
    "best_clf.best_params_"
   ]
  },
  {
   "cell_type": "code",
   "execution_count": 48,
   "metadata": {},
   "outputs": [],
   "source": [
    "# A continuación vamos a crear dataframes con los resultados para mostrar gráficas"
   ]
  },
  {
   "cell_type": "code",
   "execution_count": 49,
   "metadata": {},
   "outputs": [],
   "source": [
    "algs = [\"LR\", \"Perceptron\", \"RandomForest\", \"MLP\", \"SVC\"]"
   ]
  },
  {
   "cell_type": "code",
   "execution_count": 50,
   "metadata": {},
   "outputs": [],
   "source": [
    "results = [best_clf.cv_results_[\"split{}_test_score\".format(i)] for i in range(5)]"
   ]
  },
  {
   "cell_type": "code",
   "execution_count": 51,
   "metadata": {},
   "outputs": [
    {
     "data": {
      "text/plain": [
       "[array([0.65668203, 0.61061061, 0.67128028, 0.66666667, 0.63800905]),\n",
       " array([0.68348624, 0.64257028, 0.68720379, 0.68149883, 0.65882353]),\n",
       " array([0.7414966 , 0.66464032, 0.72146119, 0.70683662, 0.70506912]),\n",
       " array([0.66898148, 0.61904762, 0.65420561, 0.66743649, 0.63754427]),\n",
       " array([0.67068758, 0.63137632, 0.66171004, 0.65850673, 0.64311815])]"
      ]
     },
     "execution_count": 51,
     "metadata": {},
     "output_type": "execute_result"
    }
   ],
   "source": [
    "results"
   ]
  },
  {
   "cell_type": "code",
   "execution_count": 52,
   "metadata": {},
   "outputs": [],
   "source": [
    "cv_results = {\"Modelo\": algs, \"f1\": results}"
   ]
  },
  {
   "cell_type": "code",
   "execution_count": 53,
   "metadata": {},
   "outputs": [],
   "source": [
    "cv_results_pandas = pd.DataFrame(results)"
   ]
  },
  {
   "cell_type": "code",
   "execution_count": 54,
   "metadata": {},
   "outputs": [],
   "source": [
    "cv_results_pandas[\"Modelo\"] = algs"
   ]
  },
  {
   "cell_type": "code",
   "execution_count": 55,
   "metadata": {},
   "outputs": [
    {
     "data": {
      "text/html": [
       "<div>\n",
       "<style scoped>\n",
       "    .dataframe tbody tr th:only-of-type {\n",
       "        vertical-align: middle;\n",
       "    }\n",
       "\n",
       "    .dataframe tbody tr th {\n",
       "        vertical-align: top;\n",
       "    }\n",
       "\n",
       "    .dataframe thead th {\n",
       "        text-align: right;\n",
       "    }\n",
       "</style>\n",
       "<table border=\"1\" class=\"dataframe\">\n",
       "  <thead>\n",
       "    <tr style=\"text-align: right;\">\n",
       "      <th></th>\n",
       "      <th>0</th>\n",
       "      <th>1</th>\n",
       "      <th>2</th>\n",
       "      <th>3</th>\n",
       "      <th>4</th>\n",
       "      <th>Modelo</th>\n",
       "    </tr>\n",
       "  </thead>\n",
       "  <tbody>\n",
       "    <tr>\n",
       "      <th>0</th>\n",
       "      <td>0.656682</td>\n",
       "      <td>0.610611</td>\n",
       "      <td>0.671280</td>\n",
       "      <td>0.666667</td>\n",
       "      <td>0.638009</td>\n",
       "      <td>LR</td>\n",
       "    </tr>\n",
       "    <tr>\n",
       "      <th>1</th>\n",
       "      <td>0.683486</td>\n",
       "      <td>0.642570</td>\n",
       "      <td>0.687204</td>\n",
       "      <td>0.681499</td>\n",
       "      <td>0.658824</td>\n",
       "      <td>Perceptron</td>\n",
       "    </tr>\n",
       "    <tr>\n",
       "      <th>2</th>\n",
       "      <td>0.741497</td>\n",
       "      <td>0.664640</td>\n",
       "      <td>0.721461</td>\n",
       "      <td>0.706837</td>\n",
       "      <td>0.705069</td>\n",
       "      <td>RandomForest</td>\n",
       "    </tr>\n",
       "    <tr>\n",
       "      <th>3</th>\n",
       "      <td>0.668981</td>\n",
       "      <td>0.619048</td>\n",
       "      <td>0.654206</td>\n",
       "      <td>0.667436</td>\n",
       "      <td>0.637544</td>\n",
       "      <td>MLP</td>\n",
       "    </tr>\n",
       "    <tr>\n",
       "      <th>4</th>\n",
       "      <td>0.670688</td>\n",
       "      <td>0.631376</td>\n",
       "      <td>0.661710</td>\n",
       "      <td>0.658507</td>\n",
       "      <td>0.643118</td>\n",
       "      <td>SVC</td>\n",
       "    </tr>\n",
       "  </tbody>\n",
       "</table>\n",
       "</div>"
      ],
      "text/plain": [
       "          0         1         2         3         4        Modelo\n",
       "0  0.656682  0.610611  0.671280  0.666667  0.638009            LR\n",
       "1  0.683486  0.642570  0.687204  0.681499  0.658824    Perceptron\n",
       "2  0.741497  0.664640  0.721461  0.706837  0.705069  RandomForest\n",
       "3  0.668981  0.619048  0.654206  0.667436  0.637544           MLP\n",
       "4  0.670688  0.631376  0.661710  0.658507  0.643118           SVC"
      ]
     },
     "execution_count": 55,
     "metadata": {},
     "output_type": "execute_result"
    }
   ],
   "source": [
    "cv_results_pandas"
   ]
  },
  {
   "cell_type": "code",
   "execution_count": 56,
   "metadata": {},
   "outputs": [
    {
     "data": {
      "image/png": "[encoded data removed]",
      "text/plain": [
       "<Figure size 842.4x595.44 with 1 Axes>"
      ]
     },
     "metadata": {},
     "output_type": "display_data"
    }
   ],
   "source": [
    "sns.set_style('ticks')\n",
    "fig, ax = plt.subplots()\n",
    "# the size of A4 paper\n",
    "ax.set_title(\"Errores obtenidos en CV\")\n",
    "ax.set_ylabel(\"F1 en CV\")\n",
    "ax.set_xlabel(\"Algoritmo\")\n",
    "fig.set_size_inches(11.7, 8.27)\n",
    "sns.boxplot(x=algs, y=results)  \n",
    "sns.despine()\n",
    "plt.show()"
   ]
  },
  {
   "cell_type": "code",
   "execution_count": 57,
   "metadata": {},
   "outputs": [],
   "source": [
    "from sklearn.metrics import precision_recall_curve\n",
    "from sklearn.metrics import f1_score\n",
    "from sklearn.metrics import accuracy_score\n",
    "from sklearn.metrics import auc"
   ]
  },
  {
   "cell_type": "code",
   "execution_count": 58,
   "metadata": {},
   "outputs": [],
   "source": [
    "# Procedemos a obtener las gráficas de preccision vs recall"
   ]
  },
  {
   "cell_type": "code",
   "execution_count": 59,
   "metadata": {},
   "outputs": [],
   "source": [
    "modelos = [best_clf_lin, best_clf_random, best_clf_mlp]"
   ]
  },
  {
   "cell_type": "code",
   "execution_count": 60,
   "metadata": {},
   "outputs": [
    {
     "name": "stdout",
     "output_type": "stream",
     "text": [
      "Logistic: f1=0.664 auc=0.757\n"
     ]
    },
    {
     "data": {
      "image/png": "[encoded data removed]",
      "text/plain": [
       "<Figure size 432x288 with 1 Axes>"
      ]
     },
     "metadata": {},
     "output_type": "display_data"
    },
    {
     "name": "stdout",
     "output_type": "stream",
     "text": [
      "Logistic: f1=0.668 auc=0.764\n"
     ]
    },
    {
     "data": {
      "image/png": "[encoded data removed]",
      "text/plain": [
       "<Figure size 432x288 with 1 Axes>"
      ]
     },
     "metadata": {},
     "output_type": "display_data"
    },
    {
     "name": "stdout",
     "output_type": "stream",
     "text": [
      "Logistic: f1=0.666 auc=0.764\n"
     ]
    },
    {
     "data": {
      "image/png": "[encoded data removed]",
      "text/plain": [
       "<Figure size 432x288 with 1 Axes>"
      ]
     },
     "metadata": {},
     "output_type": "display_data"
    }
   ],
   "source": [
    "for m, model in zip([\"RL\", \"Random Forest\", \"MLP\"], modelos):\n",
    "    lr_probs = model.predict_proba(test_x)\n",
    "    # keep probabilities for the positive outcome only\n",
    "    lr_probs = lr_probs[:, 1]\n",
    "    # predict class values\n",
    "    yhat = model.predict(test_x)\n",
    "    lr_precision, lr_recall, _ = precision_recall_curve(test_y, lr_probs)\n",
    "    lr_f1, lr_auc = f1_score(test_y, yhat), auc(lr_recall, lr_precision)\n",
    "    # summarize scores\n",
    "    print('Logistic: f1=%.3f auc=%.3f' % (lr_f1, lr_auc))\n",
    "    # plot the precision-recall curves\n",
    "    no_skill = len(test_y[test_y==1]) / len(test_y)\n",
    "    plt.plot([0, 1], [no_skill, no_skill], linestyle='--', label='No Skill')\n",
    "    plt.plot(lr_recall, lr_precision, marker='.', label=m)\n",
    "    # axis labels\n",
    "    plt.title(\"Curva precission-recall para {}\".format(m))\n",
    "    plt.xlabel('Recall')\n",
    "    plt.ylabel('Precision')\n",
    "    # show the legend\n",
    "    plt.legend()\n",
    "    # show the plot\n",
    "    plt.show()"
   ]
  },
  {
   "cell_type": "code",
   "execution_count": 61,
   "metadata": {},
   "outputs": [],
   "source": [
    "# Obtenemos las matrices de confusión para cada modelo obtenido"
   ]
  },
  {
   "cell_type": "code",
   "execution_count": 62,
   "metadata": {},
   "outputs": [],
   "source": [
    "modelos = [(\"Regresión logística\",best_clf_lin), (\"Perceptrón\", best_clf_perceptron), (\"Random Forest\",best_clf_random), (\"Perceptrón multicapa\", best_clf_mlp), (\"SVC\",best_clf_svm)]"
   ]
  },
  {
   "cell_type": "code",
   "execution_count": 63,
   "metadata": {},
   "outputs": [
    {
     "name": "stdout",
     "output_type": "stream",
     "text": [
      "Matriz de confusión para Regresión logística\n",
      "[[25410  2287]\n",
      " [ 3459  5679]]\n",
      "Matriz de confusión para Perceptrón\n",
      "[[24520  3177]\n",
      " [ 3805  5333]]\n",
      "Matriz de confusión para Random Forest\n",
      "[[25537  2160]\n",
      " [ 3475  5663]]\n",
      "Matriz de confusión para Perceptrón multicapa\n",
      "[[25530  2167]\n",
      " [ 3493  5645]]\n",
      "Matriz de confusión para SVC\n",
      "[[25443  2254]\n",
      " [ 3752  5386]]\n"
     ]
    }
   ],
   "source": [
    "for name, model in modelos:\n",
    "    print(\"Matriz de confusión para {}\".format(name))\n",
    "    y_pred = model.predict(test_x)\n",
    "    print(confusion_matrix(test_y, y_pred))"
   ]
  },
  {
   "cell_type": "code",
   "execution_count": 64,
   "metadata": {},
   "outputs": [
    {
     "name": "stdout",
     "output_type": "stream",
     "text": [
      "Accuracy para el modelo Regresión logística: 0.8369.\n",
      "E_test:0.1631\n",
      "\n",
      "Accuracy para el modelo Perceptrón: 0.844.\n",
      "E_test:0.156\n",
      "\n",
      "Accuracy para el modelo Random Forest: 0.8105.\n",
      "E_test:0.1895\n",
      "\n",
      "Accuracy para el modelo Perceptrón multicapa: 0.847.\n",
      "E_test:0.153\n",
      "\n",
      "Accuracy para el modelo SVC: 0.8463.\n",
      "E_test:0.1537\n",
      "\n"
     ]
    }
   ],
   "source": [
    "for name, model in modelos:\n",
    "    print(\"Accuracy para el modelo {}: {}.\\nE_test:{}\\n\".format(name, round(accuracy_score(test_y, y_pred),4), round(1-accuracy_score(test_y, y_pred),4)))\n",
    "    y_pred = model.predict(test_x)"
   ]
  }
 ],
 "metadata": {
  "kernelspec": {
   "display_name": "Python 3",
   "language": "python",
   "name": "python3"
  },
  "language_info": {
   "codemirror_mode": {
    "name": "ipython",
    "version": 3
   },
   "file_extension": ".py",
   "mimetype": "text/x-python",
   "name": "python",
   "nbconvert_exporter": "python",
   "pygments_lexer": "ipython3",
   "version": "3.8.2"
  }
 },
 "nbformat": 4,
 "nbformat_minor": 4
}
